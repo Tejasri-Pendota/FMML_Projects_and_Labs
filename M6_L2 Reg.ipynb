{
  "nbformat": 4,
  "nbformat_minor": 0,
  "metadata": {
    "colab": {
      "provenance": [],
      "include_colab_link": true
    },
    "kernelspec": {
      "name": "python3",
      "display_name": "Python 3"
    },
    "language_info": {
      "name": "python"
    }
  },
  "cells": [
    {
      "cell_type": "markdown",
      "metadata": {
        "id": "view-in-github",
        "colab_type": "text"
      },
      "source": [
        "<a href=\"https://colab.research.google.com/github/Tejasri-Pendota/FMML_Projects_and_Labs/blob/main/M6_L2%20Reg.ipynb\" target=\"_parent\"><img src=\"https://colab.research.google.com/assets/colab-badge.svg\" alt=\"Open In Colab\"/></a>"
      ]
    },
    {
      "cell_type": "markdown",
      "metadata": {
        "id": "H-Cp5UaReiof"
      },
      "source": [
        "#Regression Lab 2: Loss Functions\n"
      ]
    },
    {
      "cell_type": "markdown",
      "source": [
        "\n",
        "```\n",
        "Module Coordinator : Akshit Garg\n",
        "```\n"
      ],
      "metadata": {
        "id": "TSBLUen_aWef"
      }
    },
    {
      "cell_type": "markdown",
      "metadata": {
        "id": "rbxg8WQcetL2"
      },
      "source": [
        "## Motivation\n",
        "\n",
        "The main goal of machine learning tasks is to \"learn\" something about data we feed to our models. But how does the model actually learn anything? To understand this, we need to first understand what objective functions are.\n",
        "\n",
        "Mathematically, objective functions are a function whose values we desire to minimize/maximize. In the context of machine learning, the objective is commonly referred to as a **loss function**. Loss functions indicate how well the model is doing on the dataset.\n",
        "\n",
        "The value of the objective function is simply called **loss**. Our goal is to eventually find the best model parameters that has the least average loss on the data after training.\n",
        "\n",
        "\n",
        "We are familiar with the idea of **error** from the linear regression lab. RMSE is a common loss function used in machine learning. However, there are many other loss functions employed, depending on what the task is (classification, regression etc.). In this lab, we will take a look at some common loss functions, and understand why they are used where they are.\n"
      ]
    },
    {
      "cell_type": "code",
      "metadata": {
        "id": "Q_TjX0v1Upyt"
      },
      "source": [
        "import numpy as np\n",
        "import matplotlib.pyplot as plt\n",
        "plt.style.use('ggplot')\n",
        "\n",
        "# interactive visualization"
      ],
      "execution_count": 1,
      "outputs": []
    },
    {
      "cell_type": "markdown",
      "metadata": {
        "id": "o9lGgMhd9hAX"
      },
      "source": [
        "# 1. Regression\n"
      ]
    },
    {
      "cell_type": "code",
      "metadata": {
        "id": "f9qiER5ef8Sh",
        "colab": {
          "base_uri": "https://localhost:8080/",
          "height": 430
        },
        "outputId": "fec4b898-98bc-45e5-dda4-89b6a9494746"
      },
      "source": [
        "# initializing random data\n",
        "\n",
        "np.random.seed(0)\n",
        "x = np.linspace(0,100,100)\n",
        "y_actual = np.copy(x)\n",
        "y_pred = x + np.random.randint(-10,10,100)\n",
        "\n",
        "plt.plot(x,y_actual,color=\"red\")\n",
        "plt.scatter(x,y_pred,color=\"blue\")\n",
        "plt.show()"
      ],
      "execution_count": 2,
      "outputs": [
        {
          "output_type": "display_data",
          "data": {
            "text/plain": [
              "<Figure size 640x480 with 1 Axes>"
            ],
            "image/png": "[encoded data removed]"
          },
          "metadata": {}
        }
      ]
    },
    {
      "cell_type": "markdown",
      "metadata": {
        "id": "JAOKu9cGhf7t"
      },
      "source": [
        "### Mean Squared Error\n",
        "\n",
        "As we have seen before, the formula for MSE is\n",
        "\n",
        "$MSE = \\frac{1}{m} \\sum_{i=1}^n (y-y_p)^2$\n",
        "\n",
        "The image below depicts a visualization of what the squared error is.\n",
        "\n",
        "<img src=\"https://drive.google.com/uc?export=view&id=12jmqRrrqknIWKhwRpgRIJAErBjkEcyx9\" width=\"350\" height=\"350\" align=\"middle\"/>\n",
        "\n",
        "MSE is also referred to as L2 loss.\n",
        "\n",
        "Typically, we would want the units of error to be the same as the data, so we use Root Mean Squared Error instead.\n",
        "\n"
      ]
    },
    {
      "cell_type": "code",
      "metadata": {
        "colab": {
          "base_uri": "https://localhost:8080/"
        },
        "id": "y0KIs1xP2AbG",
        "outputId": "6b9492d1-147c-4cc9-a494-2367ad0ddb63"
      },
      "source": [
        "mse = np.mean((y_actual-y_pred)**2)\n",
        "print(\"MSE is: {}\".format(mse))\n",
        "print(\"RMSE is: {}\".format(np.sqrt(mse)))"
      ],
      "execution_count": 3,
      "outputs": [
        {
          "output_type": "stream",
          "name": "stdout",
          "text": [
            "MSE is: 38.68\n",
            "RMSE is: 6.219324722186485\n"
          ]
        }
      ]
    },
    {
      "cell_type": "markdown",
      "metadata": {
        "id": "05Gx5pbfhk3P"
      },
      "source": [
        "### Mean Absolute Error\n",
        "\n",
        "$MAE = \\frac{1}{m} \\sum_{i=1}^n |y-y_p|$\n",
        "\n",
        "MAE is also commonly referred to as L1 loss."
      ]
    },
    {
      "cell_type": "code",
      "metadata": {
        "id": "PfqvIN2ThjWO",
        "colab": {
          "base_uri": "https://localhost:8080/"
        },
        "outputId": "21d5d164-a343-42c2-b1f5-dd00e7e4d49d"
      },
      "source": [
        "mae = np.mean(np.abs(y_actual-y_pred))\n",
        "print(\"MAE is: {}\".format(mae))"
      ],
      "execution_count": 4,
      "outputs": [
        {
          "output_type": "stream",
          "name": "stdout",
          "text": [
            "MAE is: 5.5\n"
          ]
        }
      ]
    },
    {
      "cell_type": "markdown",
      "metadata": {
        "id": "4j7VlwmH4WVU"
      },
      "source": [
        "MSE penalizes the model for making large errors by squaring the difference. However, this also means that MSE cannot handle outliers well, since they would throw the model off.\n",
        "\n",
        "On the other hand, MAE is robust to outliers. But, MAE is non-differentiable, making it difficult to perform mathematical operations on it.\n",
        "\n",
        "Hence, RMSE is most commonly used as a metric for evaluation."
      ]
    },
    {
      "cell_type": "markdown",
      "metadata": {
        "id": "buXwWqWjhT_9"
      },
      "source": [
        "# 2. Classification\n",
        "\n",
        "Classification tasks involve some data, along with labels assigned to that data. For example, we may have pictures of cats and dogs, and the corresponding labels assigned to those images. We then want to train a model that can predict a label for some input image belonging to either label class (cat or dog)."
      ]
    },
    {
      "cell_type": "markdown",
      "metadata": {
        "id": "qiJUcm4vhthC"
      },
      "source": [
        "## The concept of maximum likelihood\n",
        "\n",
        "Ideally, we would want to obtain a model $\\hat{\\theta}$ which maximizes the probability of correctly predicting data. Mathematically, the likelihood is:\n",
        "\n",
        "$ \\prod_{i=1}^{N}  \\: \\hat{\\theta_i}^{\\theta_i}$\n",
        "\n",
        "This is because our actual data ($\\theta_i$) is either 0 or 1 depending on the label of the data, and our predicted data ($\\hat{\\theta_i}$) is a probability.\n",
        "\n",
        "We usually consider the negative log of the likelihood, since log is monotonic and easier to deal with as an optimization problem.\n",
        "\n",
        "Hence, we have\n",
        "\n",
        "$MLE = $ arg min $\\: - \\sum_{i=1}^{N} \\theta_i \\: log \\: \\hat{\\theta_i}$\n",
        "\n",
        "\\\n",
        "\n",
        "\n",
        "## Entropy and Cross-Entropy\n",
        "\n",
        "For some event $x$, we can obtain **information** based on its probability distribution. For example, for some event that occurs with $p=1$, we gain no information. Now, if we flip a coin and see that we obtained heads, we say that we got 1 bit of information.\n",
        "\n",
        "Thus, the information $I$ of some event $x$ is:\n",
        "\n",
        "$I = -log_2 \\: p(x)$\n",
        "\n",
        "We say that events with a low probability of occuring give high information, and those with a low probability give low information.\n",
        "\n",
        "Now, if we have some random variable $X$, its **entropy** is the expected value of the information obtained.\n",
        "\n",
        "$H(x) = - \\sum_{k} p_k \\: log \\: p_k$\n",
        "\n",
        "Now, suppose we are trying to correctly predict labels of some data. Let P be the true distribution of the labels, and Q be the predicted distribution of labels.\n",
        "\n",
        "Cross-Entropy is then defined as:\n",
        "\n",
        "$H(P,Q) = - \\sum_{x} P(x)\\: log \\: Q(x)$\n",
        "\n",
        "which is basically the entropy between two probability distributions over the same events.\n",
        "\n",
        "\\\n",
        "\n",
        "\n",
        "## MLE and Cross-Entropy\n",
        "\n",
        "So, in the case of classification, the equation for minimization of the cross-entropy between the actual data and the predicted data would be:\n",
        "\n",
        "arg min $\\: -\\sum_{i=1}^{N} P(x) \\: log \\: Q(x)$\n",
        "\n",
        "$= $ arg min $\\: -\\sum_{i=1}^{N} \\theta_i \\: log \\: \\hat{\\theta_i}$\n",
        "\n",
        "\n",
        "which is exactly the same as what we had obtained for minimizing the negative log likelihood. Hence, the two problems are equivalent."
      ]
    },
    {
      "cell_type": "markdown",
      "source": [
        "1/1+e^(-x)"
      ],
      "metadata": {
        "id": "UyJN_UiEbbch"
      }
    },
    {
      "cell_type": "code",
      "metadata": {
        "id": "mLKuJyHth5-4",
        "colab": {
          "base_uri": "https://localhost:8080/",
          "height": 607
        },
        "outputId": "e5827690-06ad-4c16-f9e6-6295b15f2244"
      },
      "source": [
        "def sigmoid(z):\n",
        "  return 1/(1 + np.exp(-z))\n",
        "\n",
        "def cross_entropy_loss(y_,y):\n",
        "  if y==1:\n",
        "    return -np.log(y_)\n",
        "\n",
        "  return -np.log(1-y_)\n",
        "\n",
        "z = np.arange(-10, 10, 0.1)\n",
        "h_z = sigmoid(z)\n",
        "\n",
        "cost_1 = cross_entropy_loss(h_z, 1)\n",
        "cost_0 = cross_entropy_loss(h_z, 0)\n",
        "\n",
        "fig, ax = plt.subplots(figsize=(8,6))\n",
        "plt.plot(h_z, cost_1, label='y=1')\n",
        "plt.plot(h_z, cost_0, label='y=0')\n",
        "plt.xlabel('predicted probability')\n",
        "plt.ylabel('loss')\n",
        "plt.legend(loc='best')\n",
        "plt.tight_layout()\n",
        "plt.show()"
      ],
      "execution_count": null,
      "outputs": [
        {
          "output_type": "display_data",
          "data": {
            "text/plain": [
              "<Figure size 800x600 with 1 Axes>"
            ],
            "image/png": "[encoded data removed]"
          },
          "metadata": {}
        }
      ]
    },
    {
      "cell_type": "markdown",
      "source": [
        "## KNN-regression\n",
        "\n",
        "Till now, we have studied KNN as a classification algorithm, which uses feature similarity and voting to decide the class labels of unseen data.\n",
        "\n",
        "For regression, we use the same idea: We take the y-values of the k nearest neighbours, and compute their average, which is our predicted y-value. We do this for every x whose value we want to predict.\n",
        "\n",
        "In the visualization below, we have k=3, and the red dots are the new x-values whose output we want to predict.\n",
        "\n",
        "![image.png](data:image/png;base64,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)"
      ],
      "metadata": {
        "id": "f42L9ZmuWVIQ"
      }
    },
    {
      "cell_type": "code",
      "source": [
        "from sklearn import neighbors\n",
        "from sklearn.metrics import mean_squared_error\n",
        "from math import sqrt\n",
        "import matplotlib.pyplot as plt\n",
        "import pandas as pd\n",
        "from sklearn.model_selection import train_test_split\n",
        "from sklearn.preprocessing import MinMaxScaler\n",
        "import numpy as np"
      ],
      "metadata": {
        "id": "cQIX2HoAbqqD"
      },
      "execution_count": 5,
      "outputs": []
    },
    {
      "cell_type": "code",
      "source": [
        "train_path = \"https://raw.githubusercontent.com/PranavTadimeti/Regression-lab2/main/BigMart-train.csv\"\n",
        "\n",
        "train = pd.read_csv(train_path)"
      ],
      "metadata": {
        "id": "VLMVfcylWlWB"
      },
      "execution_count": 7,
      "outputs": []
    },
    {
      "cell_type": "code",
      "source": [
        "# Preprocess Data\n",
        "\n",
        "def preprocess(df):\n",
        "  mean_weight = df['Item_Weight'].mean()\n",
        "  df['Item_Weight'].fillna(mean_weight,inplace=True)\n",
        "\n",
        "  mode_size = df['Outlet_Size'].mode()\n",
        "  df['Outlet_Size'].fillna(mode_size,inplace=True)\n",
        "\n",
        "  df.drop(['Item_Identifier','Outlet_Identifier'],axis=1,inplace=True)\n",
        "\n",
        "  return pd.get_dummies(df)\n",
        "\n",
        "train = preprocess(train)\n",
        "\n",
        "train.head()"
      ],
      "metadata": {
        "colab": {
          "base_uri": "https://localhost:8080/",
          "height": 516
        },
        "id": "bkMzDwYaYTlQ",
        "outputId": "ed39be1e-9b41-43f4-c7b0-25dd7fa7109b"
      },
      "execution_count": 8,
      "outputs": [
        {
          "output_type": "stream",
          "name": "stderr",
          "text": [
            "<ipython-input-8-16fc6f082614>:5: FutureWarning: A value is trying to be set on a copy of a DataFrame or Series through chained assignment using an inplace method.\n",
            "The behavior will change in pandas 3.0. This inplace method will never work because the intermediate object on which we are setting values always behaves as a copy.\n",
            "\n",
            "For example, when doing 'df[col].method(value, inplace=True)', try using 'df.method({col: value}, inplace=True)' or df[col] = df[col].method(value) instead, to perform the operation inplace on the original object.\n",
            "\n",
            "\n",
            "  df['Item_Weight'].fillna(mean_weight,inplace=True)\n",
            "<ipython-input-8-16fc6f082614>:8: FutureWarning: A value is trying to be set on a copy of a DataFrame or Series through chained assignment using an inplace method.\n",
            "The behavior will change in pandas 3.0. This inplace method will never work because the intermediate object on which we are setting values always behaves as a copy.\n",
            "\n",
            "For example, when doing 'df[col].method(value, inplace=True)', try using 'df.method({col: value}, inplace=True)' or df[col] = df[col].method(value) instead, to perform the operation inplace on the original object.\n",
            "\n",
            "\n",
            "  df['Outlet_Size'].fillna(mode_size,inplace=True)\n"
          ]
        },
        {
          "output_type": "execute_result",
          "data": {
            "text/plain": [
              "   Item_Weight  Item_Visibility  Item_MRP  Outlet_Establishment_Year  \\\n",
              "0         9.30         0.016047  249.8092                       1999   \n",
              "1         5.92         0.019278   48.2692                       2009   \n",
              "2        17.50         0.016760  141.6180                       1999   \n",
              "3        19.20         0.000000  182.0950                       1998   \n",
              "4         8.93         0.000000   53.8614                       1987   \n",
              "\n",
              "   Item_Outlet_Sales  Item_Fat_Content_LF  Item_Fat_Content_Low Fat  \\\n",
              "0          3735.1380                False                      True   \n",
              "1           443.4228                False                     False   \n",
              "2          2097.2700                False                      True   \n",
              "3           732.3800                False                     False   \n",
              "4           994.7052                False                      True   \n",
              "\n",
              "   Item_Fat_Content_Regular  Item_Fat_Content_low fat  Item_Fat_Content_reg  \\\n",
              "0                     False                     False                 False   \n",
              "1                      True                     False                 False   \n",
              "2                     False                     False                 False   \n",
              "3                      True                     False                 False   \n",
              "4                     False                     False                 False   \n",
              "\n",
              "   ...  Outlet_Size_High  Outlet_Size_Medium  Outlet_Size_Small  \\\n",
              "0  ...             False                True              False   \n",
              "1  ...             False                True              False   \n",
              "2  ...             False                True              False   \n",
              "3  ...             False               False              False   \n",
              "4  ...              True               False              False   \n",
              "\n",
              "   Outlet_Location_Type_Tier 1  Outlet_Location_Type_Tier 2  \\\n",
              "0                         True                        False   \n",
              "1                        False                        False   \n",
              "2                         True                        False   \n",
              "3                        False                        False   \n",
              "4                        False                        False   \n",
              "\n",
              "   Outlet_Location_Type_Tier 3  Outlet_Type_Grocery Store  \\\n",
              "0                        False                      False   \n",
              "1                         True                      False   \n",
              "2                        False                      False   \n",
              "3                         True                       True   \n",
              "4                         True                      False   \n",
              "\n",
              "   Outlet_Type_Supermarket Type1  Outlet_Type_Supermarket Type2  \\\n",
              "0                           True                          False   \n",
              "1                          False                           True   \n",
              "2                           True                          False   \n",
              "3                          False                          False   \n",
              "4                           True                          False   \n",
              "\n",
              "   Outlet_Type_Supermarket Type3  \n",
              "0                          False  \n",
              "1                          False  \n",
              "2                          False  \n",
              "3                          False  \n",
              "4                          False  \n",
              "\n",
              "[5 rows x 36 columns]"
            ],
            "text/html": [
              "\n",
              "  <div id=\"df-74f21357-2362-405e-a7cd-0a248df3b871\" class=\"colab-df-container\">\n",
              "    <div>\n",
              "<style scoped>\n",
              "    .dataframe tbody tr th:only-of-type {\n",
              "        vertical-align: middle;\n",
              "    }\n",
              "\n",
              "    .dataframe tbody tr th {\n",
              "        vertical-align: top;\n",
              "    }\n",
              "\n",
              "    .dataframe thead th {\n",
              "        text-align: right;\n",
              "    }\n",
              "</style>\n",
              "<table border=\"1\" class=\"dataframe\">\n",
              "  <thead>\n",
              "    <tr style=\"text-align: right;\">\n",
              "      <th></th>\n",
              "      <th>Item_Weight</th>\n",
              "      <th>Item_Visibility</th>\n",
              "      <th>Item_MRP</th>\n",
              "      <th>Outlet_Establishment_Year</th>\n",
              "      <th>Item_Outlet_Sales</th>\n",
              "      <th>Item_Fat_Content_LF</th>\n",
              "      <th>Item_Fat_Content_Low Fat</th>\n",
              "      <th>Item_Fat_Content_Regular</th>\n",
              "      <th>Item_Fat_Content_low fat</th>\n",
              "      <th>Item_Fat_Content_reg</th>\n",
              "      <th>...</th>\n",
              "      <th>Outlet_Size_High</th>\n",
              "      <th>Outlet_Size_Medium</th>\n",
              "      <th>Outlet_Size_Small</th>\n",
              "      <th>Outlet_Location_Type_Tier 1</th>\n",
              "      <th>Outlet_Location_Type_Tier 2</th>\n",
              "      <th>Outlet_Location_Type_Tier 3</th>\n",
              "      <th>Outlet_Type_Grocery Store</th>\n",
              "      <th>Outlet_Type_Supermarket Type1</th>\n",
              "      <th>Outlet_Type_Supermarket Type2</th>\n",
              "      <th>Outlet_Type_Supermarket Type3</th>\n",
              "    </tr>\n",
              "  </thead>\n",
              "  <tbody>\n",
              "    <tr>\n",
              "      <th>0</th>\n",
              "      <td>9.30</td>\n",
              "      <td>0.016047</td>\n",
              "      <td>249.8092</td>\n",
              "      <td>1999</td>\n",
              "      <td>3735.1380</td>\n",
              "      <td>False</td>\n",
              "      <td>True</td>\n",
              "      <td>False</td>\n",
              "      <td>False</td>\n",
              "      <td>False</td>\n",
              "      <td>...</td>\n",
              "      <td>False</td>\n",
              "      <td>True</td>\n",
              "      <td>False</td>\n",
              "      <td>True</td>\n",
              "      <td>False</td>\n",
              "      <td>False</td>\n",
              "      <td>False</td>\n",
              "      <td>True</td>\n",
              "      <td>False</td>\n",
              "      <td>False</td>\n",
              "    </tr>\n",
              "    <tr>\n",
              "      <th>1</th>\n",
              "      <td>5.92</td>\n",
              "      <td>0.019278</td>\n",
              "      <td>48.2692</td>\n",
              "      <td>2009</td>\n",
              "      <td>443.4228</td>\n",
              "      <td>False</td>\n",
              "      <td>False</td>\n",
              "      <td>True</td>\n",
              "      <td>False</td>\n",
              "      <td>False</td>\n",
              "      <td>...</td>\n",
              "      <td>False</td>\n",
              "      <td>True</td>\n",
              "      <td>False</td>\n",
              "      <td>False</td>\n",
              "      <td>False</td>\n",
              "      <td>True</td>\n",
              "      <td>False</td>\n",
              "      <td>False</td>\n",
              "      <td>True</td>\n",
              "      <td>False</td>\n",
              "    </tr>\n",
              "    <tr>\n",
              "      <th>2</th>\n",
              "      <td>17.50</td>\n",
              "      <td>0.016760</td>\n",
              "      <td>141.6180</td>\n",
              "      <td>1999</td>\n",
              "      <td>2097.2700</td>\n",
              "      <td>False</td>\n",
              "      <td>True</td>\n",
              "      <td>False</td>\n",
              "      <td>False</td>\n",
              "      <td>False</td>\n",
              "      <td>...</td>\n",
              "      <td>False</td>\n",
              "      <td>True</td>\n",
              "      <td>False</td>\n",
              "      <td>True</td>\n",
              "      <td>False</td>\n",
              "      <td>False</td>\n",
              "      <td>False</td>\n",
              "      <td>True</td>\n",
              "      <td>False</td>\n",
              "      <td>False</td>\n",
              "    </tr>\n",
              "    <tr>\n",
              "      <th>3</th>\n",
              "      <td>19.20</td>\n",
              "      <td>0.000000</td>\n",
              "      <td>182.0950</td>\n",
              "      <td>1998</td>\n",
              "      <td>732.3800</td>\n",
              "      <td>False</td>\n",
              "      <td>False</td>\n",
              "      <td>True</td>\n",
              "      <td>False</td>\n",
              "      <td>False</td>\n",
              "      <td>...</td>\n",
              "      <td>False</td>\n",
              "      <td>False</td>\n",
              "      <td>False</td>\n",
              "      <td>False</td>\n",
              "      <td>False</td>\n",
              "      <td>True</td>\n",
              "      <td>True</td>\n",
              "      <td>False</td>\n",
              "      <td>False</td>\n",
              "      <td>False</td>\n",
              "    </tr>\n",
              "    <tr>\n",
              "      <th>4</th>\n",
              "      <td>8.93</td>\n",
              "      <td>0.000000</td>\n",
              "      <td>53.8614</td>\n",
              "      <td>1987</td>\n",
              "      <td>994.7052</td>\n",
              "      <td>False</td>\n",
              "      <td>True</td>\n",
              "      <td>False</td>\n",
              "      <td>False</td>\n",
              "      <td>False</td>\n",
              "      <td>...</td>\n",
              "      <td>True</td>\n",
              "      <td>False</td>\n",
              "      <td>False</td>\n",
              "      <td>False</td>\n",
              "      <td>False</td>\n",
              "      <td>True</td>\n",
              "      <td>False</td>\n",
              "      <td>True</td>\n",
              "      <td>False</td>\n",
              "      <td>False</td>\n",
              "    </tr>\n",
              "  </tbody>\n",
              "</table>\n",
              "<p>5 rows × 36 columns</p>\n",
              "</div>\n",
              "    <div class=\"colab-df-buttons\">\n",
              "\n",
              "  <div class=\"colab-df-container\">\n",
              "    <button class=\"colab-df-convert\" onclick=\"convertToInteractive('df-74f21357-2362-405e-a7cd-0a248df3b871')\"\n",
              "            title=\"Convert this dataframe to an interactive table.\"\n",
              "            style=\"display:none;\">\n",
              "\n",
              "  <svg xmlns=\"http://www.w3.org/2000/svg\" height=\"24px\" viewBox=\"0 -960 960 960\">\n",
              "    <path d=\"M120-120v-720h720v720H120Zm60-500h600v-160H180v160Zm220 220h160v-160H400v160Zm0 220h160v-160H400v160ZM180-400h160v-160H180v160Zm440 0h160v-160H620v160ZM180-180h160v-160H180v160Zm440 0h160v-160H620v160Z\"/>\n",
              "  </svg>\n",
              "    </button>\n",
              "\n",
              "  <style>\n",
              "    .colab-df-container {\n",
              "      display:flex;\n",
              "      gap: 12px;\n",
              "    }\n",
              "\n",
              "    .colab-df-convert {\n",
              "      background-color: #E8F0FE;\n",
              "      border: none;\n",
              "      border-radius: 50%;\n",
              "      cursor: pointer;\n",
              "      display: none;\n",
              "      fill: #1967D2;\n",
              "      height: 32px;\n",
              "      padding: 0 0 0 0;\n",
              "      width: 32px;\n",
              "    }\n",
              "\n",
              "    .colab-df-convert:hover {\n",
              "      background-color: #E2EBFA;\n",
              "      box-shadow: 0px 1px 2px rgba(60, 64, 67, 0.3), 0px 1px 3px 1px rgba(60, 64, 67, 0.15);\n",
              "      fill: #174EA6;\n",
              "    }\n",
              "\n",
              "    .colab-df-buttons div {\n",
              "      margin-bottom: 4px;\n",
              "    }\n",
              "\n",
              "    [theme=dark] .colab-df-convert {\n",
              "      background-color: #3B4455;\n",
              "      fill: #D2E3FC;\n",
              "    }\n",
              "\n",
              "    [theme=dark] .colab-df-convert:hover {\n",
              "      background-color: #434B5C;\n",
              "      box-shadow: 0px 1px 3px 1px rgba(0, 0, 0, 0.15);\n",
              "      filter: drop-shadow(0px 1px 2px rgba(0, 0, 0, 0.3));\n",
              "      fill: #FFFFFF;\n",
              "    }\n",
              "  </style>\n",
              "\n",
              "    <script>\n",
              "      const buttonEl =\n",
              "        document.querySelector('#df-74f21357-2362-405e-a7cd-0a248df3b871 button.colab-df-convert');\n",
              "      buttonEl.style.display =\n",
              "        google.colab.kernel.accessAllowed ? 'block' : 'none';\n",
              "\n",
              "      async function convertToInteractive(key) {\n",
              "        const element = document.querySelector('#df-74f21357-2362-405e-a7cd-0a248df3b871');\n",
              "        const dataTable =\n",
              "          await google.colab.kernel.invokeFunction('convertToInteractive',\n",
              "                                                    [key], {});\n",
              "        if (!dataTable) return;\n",
              "\n",
              "        const docLinkHtml = 'Like what you see? Visit the ' +\n",
              "          '<a target=\"_blank\" href=https://colab.research.google.com/notebooks/data_table.ipynb>data table notebook</a>'\n",
              "          + ' to learn more about interactive tables.';\n",
              "        element.innerHTML = '';\n",
              "        dataTable['output_type'] = 'display_data';\n",
              "        await google.colab.output.renderOutput(dataTable, element);\n",
              "        const docLink = document.createElement('div');\n",
              "        docLink.innerHTML = docLinkHtml;\n",
              "        element.appendChild(docLink);\n",
              "      }\n",
              "    </script>\n",
              "  </div>\n",
              "\n",
              "\n",
              "<div id=\"df-2d4dc983-a111-49ee-9d2f-353d67d39c89\">\n",
              "  <button class=\"colab-df-quickchart\" onclick=\"quickchart('df-2d4dc983-a111-49ee-9d2f-353d67d39c89')\"\n",
              "            title=\"Suggest charts\"\n",
              "            style=\"display:none;\">\n",
              "\n",
              "<svg xmlns=\"http://www.w3.org/2000/svg\" height=\"24px\"viewBox=\"0 0 24 24\"\n",
              "     width=\"24px\">\n",
              "    <g>\n",
              "        <path d=\"M19 3H5c-1.1 0-2 .9-2 2v14c0 1.1.9 2 2 2h14c1.1 0 2-.9 2-2V5c0-1.1-.9-2-2-2zM9 17H7v-7h2v7zm4 0h-2V7h2v10zm4 0h-2v-4h2v4z\"/>\n",
              "    </g>\n",
              "</svg>\n",
              "  </button>\n",
              "\n",
              "<style>\n",
              "  .colab-df-quickchart {\n",
              "      --bg-color: #E8F0FE;\n",
              "      --fill-color: #1967D2;\n",
              "      --hover-bg-color: #E2EBFA;\n",
              "      --hover-fill-color: #174EA6;\n",
              "      --disabled-fill-color: #AAA;\n",
              "      --disabled-bg-color: #DDD;\n",
              "  }\n",
              "\n",
              "  [theme=dark] .colab-df-quickchart {\n",
              "      --bg-color: #3B4455;\n",
              "      --fill-color: #D2E3FC;\n",
              "      --hover-bg-color: #434B5C;\n",
              "      --hover-fill-color: #FFFFFF;\n",
              "      --disabled-bg-color: #3B4455;\n",
              "      --disabled-fill-color: #666;\n",
              "  }\n",
              "\n",
              "  .colab-df-quickchart {\n",
              "    background-color: var(--bg-color);\n",
              "    border: none;\n",
              "    border-radius: 50%;\n",
              "    cursor: pointer;\n",
              "    display: none;\n",
              "    fill: var(--fill-color);\n",
              "    height: 32px;\n",
              "    padding: 0;\n",
              "    width: 32px;\n",
              "  }\n",
              "\n",
              "  .colab-df-quickchart:hover {\n",
              "    background-color: var(--hover-bg-color);\n",
              "    box-shadow: 0 1px 2px rgba(60, 64, 67, 0.3), 0 1px 3px 1px rgba(60, 64, 67, 0.15);\n",
              "    fill: var(--button-hover-fill-color);\n",
              "  }\n",
              "\n",
              "  .colab-df-quickchart-complete:disabled,\n",
              "  .colab-df-quickchart-complete:disabled:hover {\n",
              "    background-color: var(--disabled-bg-color);\n",
              "    fill: var(--disabled-fill-color);\n",
              "    box-shadow: none;\n",
              "  }\n",
              "\n",
              "  .colab-df-spinner {\n",
              "    border: 2px solid var(--fill-color);\n",
              "    border-color: transparent;\n",
              "    border-bottom-color: var(--fill-color);\n",
              "    animation:\n",
              "      spin 1s steps(1) infinite;\n",
              "  }\n",
              "\n",
              "  @keyframes spin {\n",
              "    0% {\n",
              "      border-color: transparent;\n",
              "      border-bottom-color: var(--fill-color);\n",
              "      border-left-color: var(--fill-color);\n",
              "    }\n",
              "    20% {\n",
              "      border-color: transparent;\n",
              "      border-left-color: var(--fill-color);\n",
              "      border-top-color: var(--fill-color);\n",
              "    }\n",
              "    30% {\n",
              "      border-color: transparent;\n",
              "      border-left-color: var(--fill-color);\n",
              "      border-top-color: var(--fill-color);\n",
              "      border-right-color: var(--fill-color);\n",
              "    }\n",
              "    40% {\n",
              "      border-color: transparent;\n",
              "      border-right-color: var(--fill-color);\n",
              "      border-top-color: var(--fill-color);\n",
              "    }\n",
              "    60% {\n",
              "      border-color: transparent;\n",
              "      border-right-color: var(--fill-color);\n",
              "    }\n",
              "    80% {\n",
              "      border-color: transparent;\n",
              "      border-right-color: var(--fill-color);\n",
              "      border-bottom-color: var(--fill-color);\n",
              "    }\n",
              "    90% {\n",
              "      border-color: transparent;\n",
              "      border-bottom-color: var(--fill-color);\n",
              "    }\n",
              "  }\n",
              "</style>\n",
              "\n",
              "  <script>\n",
              "    async function quickchart(key) {\n",
              "      const quickchartButtonEl =\n",
              "        document.querySelector('#' + key + ' button');\n",
              "      quickchartButtonEl.disabled = true;  // To prevent multiple clicks.\n",
              "      quickchartButtonEl.classList.add('colab-df-spinner');\n",
              "      try {\n",
              "        const charts = await google.colab.kernel.invokeFunction(\n",
              "            'suggestCharts', [key], {});\n",
              "      } catch (error) {\n",
              "        console.error('Error during call to suggestCharts:', error);\n",
              "      }\n",
              "      quickchartButtonEl.classList.remove('colab-df-spinner');\n",
              "      quickchartButtonEl.classList.add('colab-df-quickchart-complete');\n",
              "    }\n",
              "    (() => {\n",
              "      let quickchartButtonEl =\n",
              "        document.querySelector('#df-2d4dc983-a111-49ee-9d2f-353d67d39c89 button');\n",
              "      quickchartButtonEl.style.display =\n",
              "        google.colab.kernel.accessAllowed ? 'block' : 'none';\n",
              "    })();\n",
              "  </script>\n",
              "</div>\n",
              "\n",
              "    </div>\n",
              "  </div>\n"
            ],
            "application/vnd.google.colaboratory.intrinsic+json": {
              "type": "dataframe",
              "variable_name": "train"
            }
          },
          "metadata": {},
          "execution_count": 8
        }
      ]
    },
    {
      "cell_type": "code",
      "source": [
        "train , test = train_test_split(train, test_size = 0.3)\n",
        "\n",
        "x_train = train.drop('Item_Outlet_Sales', axis=1)\n",
        "y_train = train['Item_Outlet_Sales']\n",
        "\n",
        "x_test = test.drop('Item_Outlet_Sales', axis = 1)\n",
        "y_test = test['Item_Outlet_Sales']"
      ],
      "metadata": {
        "id": "JyYJSSj-Z3mT"
      },
      "execution_count": 9,
      "outputs": []
    },
    {
      "cell_type": "code",
      "source": [
        "scaler = MinMaxScaler(feature_range=(0, 1))\n",
        "\n",
        "x_train_scaled = scaler.fit_transform(x_train)\n",
        "x_train = pd.DataFrame(x_train_scaled)\n",
        "\n",
        "x_test_scaled = scaler.fit_transform(x_test)\n",
        "x_test = pd.DataFrame(x_test_scaled)"
      ],
      "metadata": {
        "id": "Pp38lIDgZsyn"
      },
      "execution_count": 10,
      "outputs": []
    },
    {
      "cell_type": "code",
      "source": [
        "def knn_regression(k,x_train,y_train,x_test,y_test):\n",
        "    model = neighbors.KNeighborsRegressor(n_neighbors = k)\n",
        "\n",
        "    model.fit(x_train, y_train)\n",
        "    pred=model.predict(x_test)\n",
        "    error = sqrt(mean_squared_error(y_test,pred))\n",
        "    rmse_val.append(error)"
      ],
      "metadata": {
        "id": "XM_GDnVqbVKI"
      },
      "execution_count": 11,
      "outputs": []
    },
    {
      "cell_type": "code",
      "source": [
        "rmse_val = []\n",
        "\n",
        "for k in range(1,21):\n",
        "  knn_regression(k,x_train,y_train,x_test,y_test)\n",
        "\n",
        "figure = plt.figure(figsize=(10,10))\n",
        "plt.plot(np.arange(1,21),rmse_val)\n",
        "plt.xlabel(\"K\")\n",
        "plt.ylabel(\"Loss\")\n",
        "plt.show()\n",
        "\n",
        "rmse_val = np.asarray(rmse_val)\n",
        "print(\"Minimum error {} is at k = {}\".format(np.min(rmse_val),np.argmin(rmse_val)))"
      ],
      "metadata": {
        "colab": {
          "base_uri": "https://localhost:8080/",
          "height": 867
        },
        "id": "P0rIZOClcKI6",
        "outputId": "b27c9184-7407-490b-b763-4d2fe7e86a16"
      },
      "execution_count": 12,
      "outputs": [
        {
          "output_type": "display_data",
          "data": {
            "text/plain": [
              "<Figure size 1000x1000 with 1 Axes>"
            ],
            "image/png": "[encoded data removed]"
          },
          "metadata": {}
        },
        {
          "output_type": "stream",
          "name": "stdout",
          "text": [
            "Minimum error 1278.5816281094171 is at k = 6\n"
          ]
        }
      ]
    },
    {
      "cell_type": "markdown",
      "source": [
        "## Exercises\n",
        "\n",
        "1. Try out these loss functions on regression tasks, and try to understand the model performance based on the loss function.\n",
        "2. Explore other loss functions and try to understand when and why they are used.\n",
        "3. Try out KNN-regression on other datasets see which values of K give the best results.\n",
        "4. Try exploring what will happen if K is set to 1 or K is set to size of whole training dataset."
      ],
      "metadata": {
        "id": "0QNjfdMXk2AH"
      }
    },
    {
      "cell_type": "markdown",
      "source": [
        "## References ##\n",
        "1. https://scikit-learn.org/stable/modules/generated/sklearn.neighbors.KNeighborsRegressor.html\n",
        "2. https://www.geeksforgeeks.org/k-nearest-neighbours/\n",
        "3. https://bookdown.org/tpinto_home/Regression-and-Classification/k-nearest-neighbours-regression.html#:~:text=KNN%20regression%20is%20a%20non,observations%20in%20the%20same%20neighbourhood"
      ],
      "metadata": {
        "id": "rWWFWuBaXrBv"
      }
    }
  ]
}